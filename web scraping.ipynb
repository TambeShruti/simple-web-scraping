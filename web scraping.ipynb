{
  "nbformat": 4,
  "nbformat_minor": 0,
  "metadata": {
    "colab": {
      "provenance": []
    },
    "kernelspec": {
      "name": "python3",
      "display_name": "Python 3"
    },
    "language_info": {
      "name": "python"
    }
  },
  "cells": [
    {
      "cell_type": "markdown",
      "source": [
        "### Importing necessary Libraries"
      ],
      "metadata": {
        "id": "F7MBso_qfPIn"
      }
    },
    {
      "cell_type": "code",
      "source": [
        "import pandas as pd\n",
        "import requests\n",
        "from bs4 import BeautifulSoup as bs"
      ],
      "metadata": {
        "id": "Wfuik-2l4nEj"
      },
      "execution_count": 237,
      "outputs": []
    },
    {
      "cell_type": "markdown",
      "source": [
        "### Scraping three months data from three years\n",
        ""
      ],
      "metadata": {
        "id": "TPI48wXTTiVc"
      }
    },
    {
      "cell_type": "code",
      "source": [
        "years = ['2023', '2022', '2021']\n",
        "months = ['july', 'august', 'september']"
      ],
      "metadata": {
        "id": "WmyOw8F7_JyZ"
      },
      "execution_count": 246,
      "outputs": []
    },
    {
      "cell_type": "markdown",
      "source": [
        "### Defining Output columns of the dataframe"
      ],
      "metadata": {
        "id": "o6x8_5dLT4CB"
      }
    },
    {
      "cell_type": "code",
      "source": [
        "all_data = []\n",
        "\n",
        "# Define the desired output column names\n",
        "output_columns = ['date', 'day', 'day_no', 'top10_gross', 'change_yesterday',\n",
        "                  'change_lastweek', 'release', '#1 Release', 'top_gross', 'year']"
      ],
      "metadata": {
        "id": "rEYf-lx-_L_j"
      },
      "execution_count": 247,
      "outputs": []
    },
    {
      "cell_type": "markdown",
      "source": [
        "### Using Beautiful Soup to extract the data from three different pages (ie. three different years)"
      ],
      "metadata": {
        "id": "1GCQgUoBT9kE"
      }
    },
    {
      "cell_type": "code",
      "source": [
        "for year in years:\n",
        "    for month in months:\n",
        "        # Define the URL for the specific year and month\n",
        "        url = f'https://www.boxofficemojo.com/daily/{year}?interval={month}&view=month'\n",
        "\n",
        "        # Send an HTTP GET request to the URL\n",
        "        r = requests.get(url)\n",
        "\n",
        "        # Check if the request was successful (status code 200)\n",
        "        if r.status_code == 200:\n",
        "            page_source = r.content\n",
        "            page_soup = bs(page_source, \"html.parser\")\n",
        "\n",
        "            # Find the table containing the data\n",
        "            tables = page_soup.find_all('table', attrs={'class': 'a-bordered a-horizontal-stripes a-size-base a-span12 mojo-body-table mojo-table-annotated'})\n",
        "            if not tables:\n",
        "                print(f\"No table found for year: {year}, month: {month}\")\n",
        "                continue\n",
        "\n",
        "            table = tables[0]\n",
        "\n",
        "            # Ignore the first row because it has the header data\n",
        "            all_rows = table.find_all('tr')[1:]\n",
        "\n",
        "            for row in all_rows:\n",
        "                row_cols = row.find_all('td')\n",
        "\n",
        "                # Initialize a dictionary for the row data with header names as keys\n",
        "                row_data = dict(zip(output_columns, [col.text.strip() for col in row_cols]))\n",
        "\n",
        "                # Append the 'year' value to the row data\n",
        "                row_data['year'] = year\n",
        "\n",
        "                # Append the row data to the list of all_data\n",
        "                all_data.append(row_data)\n",
        "\n",
        "        else:\n",
        "            print(f\"Error: {r.status_code} for URL: {url}\")"
      ],
      "metadata": {
        "id": "pFVKTWWRCqO8"
      },
      "execution_count": 248,
      "outputs": []
    },
    {
      "cell_type": "markdown",
      "source": [
        "### Storing the data in a dataframe"
      ],
      "metadata": {
        "id": "dEvwDJZnUIYY"
      }
    },
    {
      "cell_type": "code",
      "source": [
        "df = pd.DataFrame(all_data)\n",
        "\n",
        "# Rearrange columns in the desired order\n",
        "output_columns.remove('year')  # Remove the extra 'year' column\n",
        "output_columns.insert(0, 'year')  # Place 'year' as the first column\n",
        "df = df[output_columns]"
      ],
      "metadata": {
        "id": "fSjVfysqT0yc"
      },
      "execution_count": 249,
      "outputs": []
    },
    {
      "cell_type": "code",
      "source": [
        "df.tail()"
      ],
      "metadata": {
        "colab": {
          "base_uri": "https://localhost:8080/",
          "height": 204
        },
        "id": "ybX7jlwfOgdy",
        "outputId": "c9e0190b-2bd1-44c0-cd63-519e2df7d5a5"
      },
      "execution_count": 250,
      "outputs": [
        {
          "output_type": "execute_result",
          "data": {
            "text/plain": [
              "     year   date        day day_no  top10_gross change_yesterday  \\\n",
              "271  2021  Sep 5     Sunday    248  $34,538,599              -3%   \n",
              "272  2021  Sep 4   Saturday    247  $35,596,201            -5.9%   \n",
              "273  2021  Sep 3     Friday    246  $37,808,515          +906.2%   \n",
              "274  2021  Sep 2   Thursday    245   $3,757,426           -13.1%   \n",
              "275  2021  Sep 1  Wednesday    244   $4,324,762           -22.6%   \n",
              "\n",
              "    change_lastweek release                                 #1 Release  \\\n",
              "271         +136.3%      29  Shang-Chi and the Legend of the Ten Rings   \n",
              "272          +53.6%      29  Shang-Chi and the Legend of the Ten Rings   \n",
              "273         +103.2%      29  Shang-Chi and the Legend of the Ten Rings   \n",
              "274          -16.9%      31                                   Candyman   \n",
              "275          -18.3%      32                                   Candyman   \n",
              "\n",
              "       top_gross  \n",
              "271  $22,696,386  \n",
              "272  $23,190,043  \n",
              "273  $29,502,259  \n",
              "274   $1,310,410  \n",
              "275   $1,470,325  "
            ],
            "text/html": [
              "\n",
              "  <div id=\"df-38b5925e-1424-4d96-835b-c06862c0c2ac\" class=\"colab-df-container\">\n",
              "    <div>\n",
              "<style scoped>\n",
              "    .dataframe tbody tr th:only-of-type {\n",
              "        vertical-align: middle;\n",
              "    }\n",
              "\n",
              "    .dataframe tbody tr th {\n",
              "        vertical-align: top;\n",
              "    }\n",
              "\n",
              "    .dataframe thead th {\n",
              "        text-align: right;\n",
              "    }\n",
              "</style>\n",
              "<table border=\"1\" class=\"dataframe\">\n",
              "  <thead>\n",
              "    <tr style=\"text-align: right;\">\n",
              "      <th></th>\n",
              "      <th>year</th>\n",
              "      <th>date</th>\n",
              "      <th>day</th>\n",
              "      <th>day_no</th>\n",
              "      <th>top10_gross</th>\n",
              "      <th>change_yesterday</th>\n",
              "      <th>change_lastweek</th>\n",
              "      <th>release</th>\n",
              "      <th>#1 Release</th>\n",
              "      <th>top_gross</th>\n",
              "    </tr>\n",
              "  </thead>\n",
              "  <tbody>\n",
              "    <tr>\n",
              "      <th>271</th>\n",
              "      <td>2021</td>\n",
              "      <td>Sep 5</td>\n",
              "      <td>Sunday</td>\n",
              "      <td>248</td>\n",
              "      <td>$34,538,599</td>\n",
              "      <td>-3%</td>\n",
              "      <td>+136.3%</td>\n",
              "      <td>29</td>\n",
              "      <td>Shang-Chi and the Legend of the Ten Rings</td>\n",
              "      <td>$22,696,386</td>\n",
              "    </tr>\n",
              "    <tr>\n",
              "      <th>272</th>\n",
              "      <td>2021</td>\n",
              "      <td>Sep 4</td>\n",
              "      <td>Saturday</td>\n",
              "      <td>247</td>\n",
              "      <td>$35,596,201</td>\n",
              "      <td>-5.9%</td>\n",
              "      <td>+53.6%</td>\n",
              "      <td>29</td>\n",
              "      <td>Shang-Chi and the Legend of the Ten Rings</td>\n",
              "      <td>$23,190,043</td>\n",
              "    </tr>\n",
              "    <tr>\n",
              "      <th>273</th>\n",
              "      <td>2021</td>\n",
              "      <td>Sep 3</td>\n",
              "      <td>Friday</td>\n",
              "      <td>246</td>\n",
              "      <td>$37,808,515</td>\n",
              "      <td>+906.2%</td>\n",
              "      <td>+103.2%</td>\n",
              "      <td>29</td>\n",
              "      <td>Shang-Chi and the Legend of the Ten Rings</td>\n",
              "      <td>$29,502,259</td>\n",
              "    </tr>\n",
              "    <tr>\n",
              "      <th>274</th>\n",
              "      <td>2021</td>\n",
              "      <td>Sep 2</td>\n",
              "      <td>Thursday</td>\n",
              "      <td>245</td>\n",
              "      <td>$3,757,426</td>\n",
              "      <td>-13.1%</td>\n",
              "      <td>-16.9%</td>\n",
              "      <td>31</td>\n",
              "      <td>Candyman</td>\n",
              "      <td>$1,310,410</td>\n",
              "    </tr>\n",
              "    <tr>\n",
              "      <th>275</th>\n",
              "      <td>2021</td>\n",
              "      <td>Sep 1</td>\n",
              "      <td>Wednesday</td>\n",
              "      <td>244</td>\n",
              "      <td>$4,324,762</td>\n",
              "      <td>-22.6%</td>\n",
              "      <td>-18.3%</td>\n",
              "      <td>32</td>\n",
              "      <td>Candyman</td>\n",
              "      <td>$1,470,325</td>\n",
              "    </tr>\n",
              "  </tbody>\n",
              "</table>\n",
              "</div>\n",
              "    <div class=\"colab-df-buttons\">\n",
              "\n",
              "  <div class=\"colab-df-container\">\n",
              "    <button class=\"colab-df-convert\" onclick=\"convertToInteractive('df-38b5925e-1424-4d96-835b-c06862c0c2ac')\"\n",
              "            title=\"Convert this dataframe to an interactive table.\"\n",
              "            style=\"display:none;\">\n",
              "\n",
              "  <svg xmlns=\"http://www.w3.org/2000/svg\" height=\"24px\" viewBox=\"0 -960 960 960\">\n",
              "    <path d=\"M120-120v-720h720v720H120Zm60-500h600v-160H180v160Zm220 220h160v-160H400v160Zm0 220h160v-160H400v160ZM180-400h160v-160H180v160Zm440 0h160v-160H620v160ZM180-180h160v-160H180v160Zm440 0h160v-160H620v160Z\"/>\n",
              "  </svg>\n",
              "    </button>\n",
              "\n",
              "  <style>\n",
              "    .colab-df-container {\n",
              "      display:flex;\n",
              "      gap: 12px;\n",
              "    }\n",
              "\n",
              "    .colab-df-convert {\n",
              "      background-color: #E8F0FE;\n",
              "      border: none;\n",
              "      border-radius: 50%;\n",
              "      cursor: pointer;\n",
              "      display: none;\n",
              "      fill: #1967D2;\n",
              "      height: 32px;\n",
              "      padding: 0 0 0 0;\n",
              "      width: 32px;\n",
              "    }\n",
              "\n",
              "    .colab-df-convert:hover {\n",
              "      background-color: #E2EBFA;\n",
              "      box-shadow: 0px 1px 2px rgba(60, 64, 67, 0.3), 0px 1px 3px 1px rgba(60, 64, 67, 0.15);\n",
              "      fill: #174EA6;\n",
              "    }\n",
              "\n",
              "    .colab-df-buttons div {\n",
              "      margin-bottom: 4px;\n",
              "    }\n",
              "\n",
              "    [theme=dark] .colab-df-convert {\n",
              "      background-color: #3B4455;\n",
              "      fill: #D2E3FC;\n",
              "    }\n",
              "\n",
              "    [theme=dark] .colab-df-convert:hover {\n",
              "      background-color: #434B5C;\n",
              "      box-shadow: 0px 1px 3px 1px rgba(0, 0, 0, 0.15);\n",
              "      filter: drop-shadow(0px 1px 2px rgba(0, 0, 0, 0.3));\n",
              "      fill: #FFFFFF;\n",
              "    }\n",
              "  </style>\n",
              "\n",
              "    <script>\n",
              "      const buttonEl =\n",
              "        document.querySelector('#df-38b5925e-1424-4d96-835b-c06862c0c2ac button.colab-df-convert');\n",
              "      buttonEl.style.display =\n",
              "        google.colab.kernel.accessAllowed ? 'block' : 'none';\n",
              "\n",
              "      async function convertToInteractive(key) {\n",
              "        const element = document.querySelector('#df-38b5925e-1424-4d96-835b-c06862c0c2ac');\n",
              "        const dataTable =\n",
              "          await google.colab.kernel.invokeFunction('convertToInteractive',\n",
              "                                                    [key], {});\n",
              "        if (!dataTable) return;\n",
              "\n",
              "        const docLinkHtml = 'Like what you see? Visit the ' +\n",
              "          '<a target=\"_blank\" href=https://colab.research.google.com/notebooks/data_table.ipynb>data table notebook</a>'\n",
              "          + ' to learn more about interactive tables.';\n",
              "        element.innerHTML = '';\n",
              "        dataTable['output_type'] = 'display_data';\n",
              "        await google.colab.output.renderOutput(dataTable, element);\n",
              "        const docLink = document.createElement('div');\n",
              "        docLink.innerHTML = docLinkHtml;\n",
              "        element.appendChild(docLink);\n",
              "      }\n",
              "    </script>\n",
              "  </div>\n",
              "\n",
              "\n",
              "<div id=\"df-ed1639db-f1d7-45fa-ab94-e13f34234c81\">\n",
              "  <button class=\"colab-df-quickchart\" onclick=\"quickchart('df-ed1639db-f1d7-45fa-ab94-e13f34234c81')\"\n",
              "            title=\"Suggest charts.\"\n",
              "            style=\"display:none;\">\n",
              "\n",
              "<svg xmlns=\"http://www.w3.org/2000/svg\" height=\"24px\"viewBox=\"0 0 24 24\"\n",
              "     width=\"24px\">\n",
              "    <g>\n",
              "        <path d=\"M19 3H5c-1.1 0-2 .9-2 2v14c0 1.1.9 2 2 2h14c1.1 0 2-.9 2-2V5c0-1.1-.9-2-2-2zM9 17H7v-7h2v7zm4 0h-2V7h2v10zm4 0h-2v-4h2v4z\"/>\n",
              "    </g>\n",
              "</svg>\n",
              "  </button>\n",
              "\n",
              "<style>\n",
              "  .colab-df-quickchart {\n",
              "      --bg-color: #E8F0FE;\n",
              "      --fill-color: #1967D2;\n",
              "      --hover-bg-color: #E2EBFA;\n",
              "      --hover-fill-color: #174EA6;\n",
              "      --disabled-fill-color: #AAA;\n",
              "      --disabled-bg-color: #DDD;\n",
              "  }\n",
              "\n",
              "  [theme=dark] .colab-df-quickchart {\n",
              "      --bg-color: #3B4455;\n",
              "      --fill-color: #D2E3FC;\n",
              "      --hover-bg-color: #434B5C;\n",
              "      --hover-fill-color: #FFFFFF;\n",
              "      --disabled-bg-color: #3B4455;\n",
              "      --disabled-fill-color: #666;\n",
              "  }\n",
              "\n",
              "  .colab-df-quickchart {\n",
              "    background-color: var(--bg-color);\n",
              "    border: none;\n",
              "    border-radius: 50%;\n",
              "    cursor: pointer;\n",
              "    display: none;\n",
              "    fill: var(--fill-color);\n",
              "    height: 32px;\n",
              "    padding: 0;\n",
              "    width: 32px;\n",
              "  }\n",
              "\n",
              "  .colab-df-quickchart:hover {\n",
              "    background-color: var(--hover-bg-color);\n",
              "    box-shadow: 0 1px 2px rgba(60, 64, 67, 0.3), 0 1px 3px 1px rgba(60, 64, 67, 0.15);\n",
              "    fill: var(--button-hover-fill-color);\n",
              "  }\n",
              "\n",
              "  .colab-df-quickchart-complete:disabled,\n",
              "  .colab-df-quickchart-complete:disabled:hover {\n",
              "    background-color: var(--disabled-bg-color);\n",
              "    fill: var(--disabled-fill-color);\n",
              "    box-shadow: none;\n",
              "  }\n",
              "\n",
              "  .colab-df-spinner {\n",
              "    border: 2px solid var(--fill-color);\n",
              "    border-color: transparent;\n",
              "    border-bottom-color: var(--fill-color);\n",
              "    animation:\n",
              "      spin 1s steps(1) infinite;\n",
              "  }\n",
              "\n",
              "  @keyframes spin {\n",
              "    0% {\n",
              "      border-color: transparent;\n",
              "      border-bottom-color: var(--fill-color);\n",
              "      border-left-color: var(--fill-color);\n",
              "    }\n",
              "    20% {\n",
              "      border-color: transparent;\n",
              "      border-left-color: var(--fill-color);\n",
              "      border-top-color: var(--fill-color);\n",
              "    }\n",
              "    30% {\n",
              "      border-color: transparent;\n",
              "      border-left-color: var(--fill-color);\n",
              "      border-top-color: var(--fill-color);\n",
              "      border-right-color: var(--fill-color);\n",
              "    }\n",
              "    40% {\n",
              "      border-color: transparent;\n",
              "      border-right-color: var(--fill-color);\n",
              "      border-top-color: var(--fill-color);\n",
              "    }\n",
              "    60% {\n",
              "      border-color: transparent;\n",
              "      border-right-color: var(--fill-color);\n",
              "    }\n",
              "    80% {\n",
              "      border-color: transparent;\n",
              "      border-right-color: var(--fill-color);\n",
              "      border-bottom-color: var(--fill-color);\n",
              "    }\n",
              "    90% {\n",
              "      border-color: transparent;\n",
              "      border-bottom-color: var(--fill-color);\n",
              "    }\n",
              "  }\n",
              "</style>\n",
              "\n",
              "  <script>\n",
              "    async function quickchart(key) {\n",
              "      const quickchartButtonEl =\n",
              "        document.querySelector('#' + key + ' button');\n",
              "      quickchartButtonEl.disabled = true;  // To prevent multiple clicks.\n",
              "      quickchartButtonEl.classList.add('colab-df-spinner');\n",
              "      try {\n",
              "        const charts = await google.colab.kernel.invokeFunction(\n",
              "            'suggestCharts', [key], {});\n",
              "      } catch (error) {\n",
              "        console.error('Error during call to suggestCharts:', error);\n",
              "      }\n",
              "      quickchartButtonEl.classList.remove('colab-df-spinner');\n",
              "      quickchartButtonEl.classList.add('colab-df-quickchart-complete');\n",
              "    }\n",
              "    (() => {\n",
              "      let quickchartButtonEl =\n",
              "        document.querySelector('#df-ed1639db-f1d7-45fa-ab94-e13f34234c81 button');\n",
              "      quickchartButtonEl.style.display =\n",
              "        google.colab.kernel.accessAllowed ? 'block' : 'none';\n",
              "    })();\n",
              "  </script>\n",
              "</div>\n",
              "\n",
              "    </div>\n",
              "  </div>\n"
            ]
          },
          "metadata": {},
          "execution_count": 250
        }
      ]
    },
    {
      "cell_type": "code",
      "source": [
        "df.shape"
      ],
      "metadata": {
        "colab": {
          "base_uri": "https://localhost:8080/"
        },
        "id": "6YzD6a_JOheT",
        "outputId": "f6c91329-3473-483d-bf12-96995e3a90e2"
      },
      "execution_count": 251,
      "outputs": [
        {
          "output_type": "execute_result",
          "data": {
            "text/plain": [
              "(276, 10)"
            ]
          },
          "metadata": {},
          "execution_count": 251
        }
      ]
    },
    {
      "cell_type": "markdown",
      "source": [],
      "metadata": {
        "id": "AHDKnFfCfOIE"
      }
    }
  ]
}